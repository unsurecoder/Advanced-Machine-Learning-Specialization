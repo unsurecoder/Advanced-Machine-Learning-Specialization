{
  "nbformat": 4,
  "nbformat_minor": 0,
  "metadata": {
    "anaconda-cloud": {},
    "kernelspec": {
      "display_name": "Python [conda env:py36]",
      "language": "python",
      "name": "conda-env-py36-py"
    },
    "language_info": {
      "codemirror_mode": {
        "name": "ipython",
        "version": 3
      },
      "file_extension": ".py",
      "mimetype": "text/x-python",
      "name": "python",
      "nbconvert_exporter": "python",
      "pygments_lexer": "ipython3",
      "version": "3.6.1"
    },
    "colab": {
      "name": "index.ipynb",
      "provenance": [],
      "toc_visible": true
    }
  },
  "cells": [
    {
      "cell_type": "markdown",
      "metadata": {
        "id": "DFo8_En7CagD"
      },
      "source": [
        "# Measuring the Z boson mass\n",
        "\n",
        "\n",
        "Let's look at a sample of $Z$ boson candidates recorded by CMS in 2011 and published at CERN opendata portal. It comes from DoubleMuon dataset with the following selection applied:\n",
        "\n",
        "- Both muons are \"global\" muons\n",
        "- invariant mass sits in range: 60 GeV < $ M_{\\mu\\mu}$ < 120 GeV\n",
        "- |$\\eta$| < 2.1 for both muons\n",
        "- $p_{t}$ > 20 GeV\n",
        "\n",
        "The following columns presented in the CSV file:\n",
        "\n",
        "- `Run`, Event are the run and event numbers, respectively\n",
        "- `pt` is the transverse momentum $p_{t}$ of the muon\n",
        "- `eta` is the pseudorapidity of the muon: $\\eta$\n",
        "- `phi` is the $\\phi$ angle of the muon direction\n",
        "- `Q` is the charge of the muon\n",
        "- `dxy` is the impact parameter in the transverse plane: $d_{xy}$ - how distant is the track from the collision point\n",
        "- `iso` is the track isolation: $I_{track}$ - how many other tracks are there around given track"
      ]
    },
    {
      "cell_type": "code",
      "metadata": {
        "id": "Cjs0gc3XCagE"
      },
      "source": [
        "import numpy as np\n",
        "import pandas as pd\n",
        "import matplotlib.pyplot as plt\n",
        "from skopt import gp_minimize\n",
        "%matplotlib inline"
      ],
      "execution_count": 43,
      "outputs": []
    },
    {
      "cell_type": "markdown",
      "metadata": {
        "id": "vKHgBUBFCagJ"
      },
      "source": [
        "## Read dataset"
      ]
    },
    {
      "cell_type": "code",
      "metadata": {
        "id": "7ghG_yMKCagK",
        "outputId": "a62a6be8-c237-463e-8b7f-7490a54937fd",
        "colab": {
          "base_uri": "https://localhost:8080/"
        }
      },
      "source": [
        "url = 'https://raw.githubusercontent.com/hse-aml/hadron-collider-machine-learning/master/week1/Zmumu.csv'\n",
        "df = pd.read_csv(url)\n",
        "df.shape"
      ],
      "execution_count": 44,
      "outputs": [
        {
          "output_type": "execute_result",
          "data": {
            "text/plain": [
              "(10000, 14)"
            ]
          },
          "metadata": {
            "tags": []
          },
          "execution_count": 44
        }
      ]
    },
    {
      "cell_type": "markdown",
      "metadata": {
        "id": "Pf7fxotUCagO"
      },
      "source": [
        "Let's calculate the invariant mass $M$ of the two muons using the formula\n",
        "\n",
        "$M = \\sqrt{2p_{t}^{1}p_{t}^{2}(\\cosh(\\eta_{1}-\\eta_{2}) - \\cos(\\phi_{1}-\\phi_{2}))}$"
      ]
    },
    {
      "cell_type": "code",
      "metadata": {
        "id": "T2i788yuCagO",
        "outputId": "809722c0-a243-4000-d4f6-a7504c63f1b2",
        "colab": {
          "base_uri": "https://localhost:8080/",
          "height": 107
        }
      },
      "source": [
        "df['M'] = np.sqrt(2 * df['pt1'] * df['pt2'] * (np.cosh(df['eta1'] - df['eta2']) - np.cos(df['phi1'] - df['phi2'])))\n",
        "df.head(2)"
      ],
      "execution_count": 104,
      "outputs": [
        {
          "output_type": "execute_result",
          "data": {
            "text/html": [
              "<div>\n",
              "<style scoped>\n",
              "    .dataframe tbody tr th:only-of-type {\n",
              "        vertical-align: middle;\n",
              "    }\n",
              "\n",
              "    .dataframe tbody tr th {\n",
              "        vertical-align: top;\n",
              "    }\n",
              "\n",
              "    .dataframe thead th {\n",
              "        text-align: right;\n",
              "    }\n",
              "</style>\n",
              "<table border=\"1\" class=\"dataframe\">\n",
              "  <thead>\n",
              "    <tr style=\"text-align: right;\">\n",
              "      <th></th>\n",
              "      <th>Run</th>\n",
              "      <th>Event</th>\n",
              "      <th>pt1</th>\n",
              "      <th>eta1</th>\n",
              "      <th>phi1</th>\n",
              "      <th>Q1</th>\n",
              "      <th>dxy1</th>\n",
              "      <th>iso1</th>\n",
              "      <th>pt2</th>\n",
              "      <th>eta2</th>\n",
              "      <th>phi2</th>\n",
              "      <th>Q2</th>\n",
              "      <th>dxy2</th>\n",
              "      <th>iso2</th>\n",
              "      <th>M</th>\n",
              "    </tr>\n",
              "  </thead>\n",
              "  <tbody>\n",
              "    <tr>\n",
              "      <th>0</th>\n",
              "      <td>165617</td>\n",
              "      <td>74969122</td>\n",
              "      <td>54.7055</td>\n",
              "      <td>-0.4324</td>\n",
              "      <td>2.5742</td>\n",
              "      <td>1</td>\n",
              "      <td>-0.0745</td>\n",
              "      <td>0.4999</td>\n",
              "      <td>34.2464</td>\n",
              "      <td>-0.9885</td>\n",
              "      <td>-0.4987</td>\n",
              "      <td>-1</td>\n",
              "      <td>0.0712</td>\n",
              "      <td>3.4221</td>\n",
              "      <td>89.885919</td>\n",
              "    </tr>\n",
              "    <tr>\n",
              "      <th>1</th>\n",
              "      <td>165617</td>\n",
              "      <td>75138253</td>\n",
              "      <td>24.5872</td>\n",
              "      <td>-2.0522</td>\n",
              "      <td>2.8666</td>\n",
              "      <td>-1</td>\n",
              "      <td>-0.0554</td>\n",
              "      <td>0.0000</td>\n",
              "      <td>28.5389</td>\n",
              "      <td>0.3852</td>\n",
              "      <td>-1.9912</td>\n",
              "      <td>1</td>\n",
              "      <td>0.0515</td>\n",
              "      <td>0.0000</td>\n",
              "      <td>88.812177</td>\n",
              "    </tr>\n",
              "  </tbody>\n",
              "</table>\n",
              "</div>"
            ],
            "text/plain": [
              "      Run     Event      pt1    eta1  ...  Q2    dxy2    iso2          M\n",
              "0  165617  74969122  54.7055 -0.4324  ...  -1  0.0712  3.4221  89.885919\n",
              "1  165617  75138253  24.5872 -2.0522  ...   1  0.0515  0.0000  88.812177\n",
              "\n",
              "[2 rows x 15 columns]"
            ]
          },
          "metadata": {
            "tags": []
          },
          "execution_count": 104
        }
      ]
    },
    {
      "cell_type": "markdown",
      "metadata": {
        "id": "S4hzYEyOCagR"
      },
      "source": [
        "# Model\n",
        "\n",
        "The distribution of the Z boson mass has the form of a normal distribution, in addition there is a noise. The distribution of the noise has an exponential form. Thus, the resulting model, it is a result of a superposition of two distributions - normal and polinomial"
      ]
    },
    {
      "cell_type": "markdown",
      "metadata": {
        "id": "ChggnRzCCagR"
      },
      "source": [
        "Let's plot the distribution of Z boson mass"
      ]
    },
    {
      "cell_type": "code",
      "metadata": {
        "id": "4oOAVqSPCagS"
      },
      "source": [
        "def plot_mass(mass, bins_count=100):\n",
        "    y, x = np.histogram(mass, bins=bins_count, density=False)\n",
        "    err = np.sqrt(y)\n",
        "\n",
        "    fig = plt.figure(figsize=(15,7))\n",
        "    plt.title('Z mass', fontsize=20)\n",
        "    plt.xlabel(\"$m_{\\mu\\mu}$ [GeV]\", fontsize=20)\n",
        "    plt.ylabel(\"Number of events\", fontsize=20)\n",
        "    plt.errorbar(x[:-1], y, yerr=err, fmt='o', color='red', ecolor='grey', capthick=0.5, zorder=1, label=\"data\")\n",
        "    return y, x"
      ],
      "execution_count": 105,
      "outputs": []
    },
    {
      "cell_type": "code",
      "metadata": {
        "id": "eFGGtMmTCagU",
        "outputId": "a2912668-9aba-4d64-dcdc-71eaa176238d",
        "colab": {
          "base_uri": "https://localhost:8080/",
          "height": 479
        }
      },
      "source": [
        "plot_mass(df.M);"
      ],
      "execution_count": 106,
      "outputs": [
        {
          "output_type": "display_data",
          "data": {
            "image/png": "[encoded data removed]",
            "text/plain": [
              "<Figure size 1080x504 with 1 Axes>"
            ]
          },
          "metadata": {
            "tags": [],
            "needs_background": "light"
          }
        }
      ]
    },
    {
      "cell_type": "markdown",
      "metadata": {
        "id": "LnfBOHzxCagW"
      },
      "source": [
        "## Exercise 1. clean up dataset a bit\n",
        "- demand that charge of muons should be opposite\n",
        "- $I_{track}$ < 3 and $d_{xy}$ < 0.2 cm"
      ]
    },
    {
      "cell_type": "code",
      "metadata": {
        "id": "E-LTRR0sCagX"
      },
      "source": [
        "### YOUR CODE GOES HERE ###\n",
        "df_sign = df[((df.Q1 > 0) & (df.Q2 < 0)) | ((df.Q1 < 0) & (df.Q2 > 0))]\n",
        "df_isolation = df_sign[(df_sign.iso1 < 3) & (df_sign.iso2 < 3) & (df_sign.dxy1.abs() < 0.2) & (df_sign.dxy2.abs() < 0.2)]\n",
        "df = df"
      ],
      "execution_count": 107,
      "outputs": []
    },
    {
      "cell_type": "code",
      "metadata": {
        "id": "FkwL2fvKCagZ",
        "outputId": "05230af5-89e3-4420-c71d-25d4bace27ee",
        "colab": {
          "base_uri": "https://localhost:8080/",
          "height": 479
        }
      },
      "source": [
        "plot_mass(df.M);"
      ],
      "execution_count": 108,
      "outputs": [
        {
          "output_type": "display_data",
          "data": {
            "image/png": "[encoded data removed]",
            "text/plain": [
              "<Figure size 1080x504 with 1 Axes>"
            ]
          },
          "metadata": {
            "tags": [],
            "needs_background": "light"
          }
        }
      ]
    },
    {
      "cell_type": "markdown",
      "metadata": {
        "id": "FBoOo53VCagb"
      },
      "source": [
        "### Let's define parametrised model\n",
        "it should represent mixture of 1) Gaussian signal and 2) background that for the simplicity we consider to be flat over mass. So it gives the following set of parameters:\n",
        "\n",
        "- m0 - center of the Gaussian\n",
        "- sigma - standard deviation of the Gaussian\n",
        "- ampl - height of the peak\n",
        "- bck - height of the background \n",
        "\n",
        "finding those parameters is called _fitting_ model into the data. It will be the goal for the rest of the exercise. For simplicity sake we'll stick with old good binned fit."
      ]
    },
    {
      "cell_type": "code",
      "metadata": {
        "id": "sn4UJsEuCagc"
      },
      "source": [
        "def model_predict(params, X):\n",
        "    m0, sigma, ampl, bck = params\n",
        "    return bck + ampl / (sigma * np.sqrt(2 * np.pi)) * np.exp((-1) * (X - m0)**2 / (2 * sigma**2))"
      ],
      "execution_count": 109,
      "outputs": []
    },
    {
      "cell_type": "code",
      "metadata": {
        "id": "fQVBSR4ZCage"
      },
      "source": [
        "def model_loss(params, X, y):\n",
        "#      y, x = np.histogram(mass, bins=bins_count, density=False)\n",
        "#      residuals = model_predict(params, (x[1:] + x[:-1])/2) - y \n",
        "      residuals = y - model_predict(params, X)\n",
        "    \n",
        "      return np.sum(residuals**2) / len(residuals)"
      ],
      "execution_count": 110,
      "outputs": []
    },
    {
      "cell_type": "code",
      "metadata": {
        "id": "8DdluJ8ZCagg"
      },
      "source": [
        "def plot_mass_with_model(params, mass, bins_count=100):\n",
        "    y, X = plot_mass(mass, bins_count=bins_count)\n",
        "    X = (X[1:] + X[:-1]) / 2\n",
        "    error = model_loss(params, X, y)\n",
        "    plt.plot(X, model_predict(params, X), color='blue', linewidth=3.0, zorder=2, label=\"fit, loss=%.2f\" % error)\n",
        "    plt.legend(fontsize='x-large')"
      ],
      "execution_count": 111,
      "outputs": []
    },
    {
      "cell_type": "markdown",
      "metadata": {
        "id": "cuwo9262Cagi"
      },
      "source": [
        "## Here you can fit model parameters by hand"
      ]
    },
    {
      "cell_type": "code",
      "metadata": {
        "id": "jY5gTWAiCagi",
        "outputId": "4effd179-a32e-42ff-8870-f556544d56ec",
        "colab": {
          "base_uri": "https://localhost:8080/",
          "height": 479
        }
      },
      "source": [
        "plot_mass_with_model((91, 2.2, 4600, 15), df.M)"
      ],
      "execution_count": 112,
      "outputs": [
        {
          "output_type": "display_data",
          "data": {
            "image/png": "[encoded data removed]",
            "text/plain": [
              "<Figure size 1080x504 with 1 Axes>"
            ]
          },
          "metadata": {
            "tags": [],
            "needs_background": "light"
          }
        }
      ]
    },
    {
      "cell_type": "markdown",
      "metadata": {
        "id": "o7pbPneOCagm"
      },
      "source": [
        "## ... but you can do it automatically of course"
      ]
    },
    {
      "cell_type": "markdown",
      "metadata": {
        "id": "J8_JxHIwCagm"
      },
      "source": [
        "Setting up a scikit optimizer"
      ]
    },
    {
      "cell_type": "code",
      "metadata": {
        "id": "yV9KSyDjCagm"
      },
      "source": [
        "from tqdm import tqdm\n",
        "from skopt import Optimizer\n",
        "\n",
        "search_space = [(90.0, 92.0), # m0 range\n",
        "    (1.5, 2.5), # sigma range\n",
        "    (3500, 4500), # amplitude range\n",
        "    (10, 20) # bck range\n",
        "    ]\n",
        "y, X = np.histogram(df.M, bins=120, density=False)\n",
        "X = (X[1:] + X[:-1]) / 2\n",
        "opt = Optimizer(search_space, base_estimator=\"GP\", acq_func=\"EI\", acq_optimizer=\"lbfgs\")"
      ],
      "execution_count": 113,
      "outputs": []
    },
    {
      "cell_type": "markdown",
      "metadata": {
        "id": "21e6SFX8Cago"
      },
      "source": [
        "Running it for a while. You can re-run this cell several times"
      ]
    },
    {
      "cell_type": "code",
      "metadata": {
        "id": "aU09TbxKCagp",
        "outputId": "25592283-0f37-409d-f311-7a3656e5cfef",
        "colab": {
          "base_uri": "https://localhost:8080/"
        }
      },
      "source": [
        "from skopt.utils import create_result\n",
        "for i in tqdm(range(50)):\n",
        "    next_x = opt.ask()\n",
        "    f_val = model_loss(next_x, X, y)\n",
        "    opt.tell(next_x, f_val)\n",
        "    \n",
        "res = create_result(Xi=opt.Xi, yi=opt.yi, space=opt.space,\n",
        "                         rng=opt.rng, models=opt.models)"
      ],
      "execution_count": 114,
      "outputs": [
        {
          "output_type": "stream",
          "text": [
            "100%|██████████| 50/50 [00:06<00:00,  7.21it/s]\n"
          ],
          "name": "stderr"
        }
      ]
    },
    {
      "cell_type": "markdown",
      "metadata": {
        "id": "_20rgMxaCagr"
      },
      "source": [
        "## A bit of search history"
      ]
    },
    {
      "cell_type": "code",
      "metadata": {
        "id": "xbBkV_aICagr",
        "outputId": "f5f61fa4-739f-4ffa-dd96-df6dc6cd0e6d",
        "colab": {
          "base_uri": "https://localhost:8080/",
          "height": 313
        }
      },
      "source": [
        "import skopt.plots\n",
        "skopt.plots.plot_convergence(res)\n",
        "print (list(zip([\"m0\", \"sigma\", \"ampl\", \"bck\"], res.x)))"
      ],
      "execution_count": 115,
      "outputs": [
        {
          "output_type": "stream",
          "text": [
            "[('m0', 90.68028038284407), ('sigma', 2.107794960838904), ('ampl', 3653), ('bck', 11)]\n"
          ],
          "name": "stdout"
        },
        {
          "output_type": "display_data",
          "data": {
            "image/png": "[encoded data removed]",
            "text/plain": [
              "<Figure size 432x288 with 1 Axes>"
            ]
          },
          "metadata": {
            "tags": [],
            "needs_background": "light"
          }
        }
      ]
    },
    {
      "cell_type": "code",
      "metadata": {
        "id": "4Zkff_ITCagt"
      },
      "source": [
        "# even more details on the search space\n",
        "#skopt.plots.plot_objective(res, dimensions=['m0', 'sigma', 'ampl', 'bck'])\n"
      ],
      "execution_count": 91,
      "outputs": []
    },
    {
      "cell_type": "markdown",
      "metadata": {
        "id": "4RNVjWnZCagv"
      },
      "source": [
        "Let's see how well the prediction fits the data"
      ]
    },
    {
      "cell_type": "code",
      "metadata": {
        "id": "kKKtawRiCagv",
        "outputId": "281f5ecc-3d70-4e46-d2d6-c3f0965e2bb9",
        "colab": {
          "base_uri": "https://localhost:8080/",
          "height": 479
        }
      },
      "source": [
        "plot_mass_with_model(res.x, df.M, bins_count=120)"
      ],
      "execution_count": 116,
      "outputs": [
        {
          "output_type": "display_data",
          "data": {
            "image/png": "[encoded data removed]",
            "text/plain": [
              "<Figure size 1080x504 with 1 Axes>"
            ]
          },
          "metadata": {
            "tags": [],
            "needs_background": "light"
          }
        }
      ]
    },
    {
      "cell_type": "code",
      "metadata": {
        "id": "qAS-2SXgCagx"
      },
      "source": [
        "# token expires every 30 min\n",
        "COURSERA_TOKEN = \"Rge7kMseT5nCi1jd\"### YOUR TOKEN HERE\n",
        "COURSERA_EMAIL = \"ashish.panigrahi@sdabocconiasiacenter.com\"### YOUR EMAIL HERE"
      ],
      "execution_count": 117,
      "outputs": []
    },
    {
      "cell_type": "markdown",
      "metadata": {
        "id": "I-hDVDKDCagz"
      },
      "source": [
        "## Grader part, do not change, please"
      ]
    },
    {
      "cell_type": "code",
      "metadata": {
        "id": "NRd0TiGxCagz"
      },
      "source": [
        "import grading\n",
        "grader = grading.Grader(assignment_key=\"SeMsm2JfEeiyvBKA0wfIgA\", \n",
        "                      all_parts=[\"VI3xu\", \"VuE8x\", \"KzmMV\", \"TwZBF\"])\n"
      ],
      "execution_count": 118,
      "outputs": []
    },
    {
      "cell_type": "code",
      "metadata": {
        "id": "70VOM_lmCag1",
        "outputId": "89816e45-96da-46bf-c9db-8e26ca152162",
        "colab": {
          "base_uri": "https://localhost:8080/"
        }
      },
      "source": [
        "ans_part1 = round(res.x[0])\n",
        "grader.set_answer(\"VI3xu\", ans_part1)\n",
        "\n",
        "ans_part2 = round(res.x[1], 2)\n",
        "grader.set_answer(\"VuE8x\", ans_part2)\n",
        "\n",
        "ans_part3 = round(res.x[3])\n",
        "grader.set_answer(\"KzmMV\", ans_part3)\n",
        "\n",
        "ans_part4 = round(res.x[2])\n",
        "grader.set_answer(\"TwZBF\", ans_part4)\n",
        "\n",
        "grader.submit(COURSERA_EMAIL, COURSERA_TOKEN)"
      ],
      "execution_count": 119,
      "outputs": [
        {
          "output_type": "stream",
          "text": [
            "Submitted to Coursera platform. See results on assignment page!\n"
          ],
          "name": "stdout"
        }
      ]
    },
    {
      "cell_type": "code",
      "metadata": {
        "id": "Tj1LCpArDzyD"
      },
      "source": [
        ""
      ],
      "execution_count": 81,
      "outputs": []
    }
  ]
}